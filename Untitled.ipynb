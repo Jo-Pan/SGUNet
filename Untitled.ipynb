{
 "cells": [
  {
   "cell_type": "code",
   "execution_count": 13,
   "metadata": {},
   "outputs": [],
   "source": [
    "import os, shutil"
   ]
  },
  {
   "cell_type": "code",
   "execution_count": 30,
   "metadata": {},
   "outputs": [
    {
     "data": {
      "text/plain": [
       "['segmentation_cv4_f32_l4_lr0.0001_bat50_losscedice_CNcc_distort_avgpool_expresidual_decoder11b',\n",
       " 'segmentation_cv2_f32_l4_lr0.0001_bat50_losscedice_CNcc_distort_avgpool_expresidual_decoder11b',\n",
       " 'segmentation_cv3_f32_l4_lr0.0001_bat50_losscedice_CNcc_distort_avgpool_expresidual_decoder11b',\n",
       " 'segmentation_cv1_f32_l4_lr0.0001_bat50_losscedice_CNcc_distort_avgpool_expresidual_decoder11b',\n",
       " 'segmentation_cv0_f32_l4_lr0.0001_bat50_losscedice_CNcc_distort_avgpool_expresidual_decoder11b']"
      ]
     },
     "execution_count": 30,
     "metadata": {},
     "output_type": "execute_result"
    }
   ],
   "source": [
    "[c for c in ckpts if c[16:] == model_names['sgunet']]"
   ]
  },
  {
   "cell_type": "code",
   "execution_count": 33,
   "metadata": {
    "scrolled": true
   },
   "outputs": [
    {
     "name": "stdout",
     "output_type": "stream",
     "text": [
      "./checkpoints/unet_cv1\n",
      "./checkpoints/unet_cv4\n",
      "./checkpoints/unet_cv0\n",
      "./checkpoints/unet_cv2\n",
      "./checkpoints/unet_cv3\n",
      "./checkpoints/sgunet_cv4\n",
      "./checkpoints/sgunet_cv2\n",
      "./checkpoints/sgunet_cv3\n",
      "./checkpoints/sgunet_cv1\n",
      "./checkpoints/sgunet_cv0\n",
      "./checkpoints/unet++_cv4\n",
      "./checkpoints/unet++_cv1\n",
      "./checkpoints/unet++_cv0\n",
      "./checkpoints/unet++_cv2\n",
      "./checkpoints/unet++_cv3\n"
     ]
    }
   ],
   "source": [
    "ckpts = os.listdir('../checkpoints/')\n",
    "model_names = {\n",
    "    'unet': '_f32_l4_lr0.0001_bat50_losscedice_CNcc_distort_avgpool',\n",
    "    'sgunet':'_f32_l4_lr0.0001_bat50_losscedice_CNcc_distort_avgpool_expresidual_decoder11b',\n",
    "    'unet++':'_f32_l4_lr0.0001_bat50_losscedice_CNcc_distort_avgpool_exp2UNetPlusPlus'\n",
    "}\n",
    "\n",
    "for model_type in list(model_names.keys()):\n",
    "    temp = [c for c in ckpts if c[16:] == model_names[model_type]]\n",
    "    for c in temp:\n",
    "        cv = c.split('_cv')[1][0]\n",
    "        src = f'../checkpoints/{c}'\n",
    "        dest = f'./checkpoints/{model_type}_cv{cv}'\n",
    "        shutil.copytree(src, dest) \n",
    "        print(dest)"
   ]
  }
 ],
 "metadata": {
  "kernelspec": {
   "display_name": "Python 3",
   "language": "python",
   "name": "python3"
  },
  "language_info": {
   "codemirror_mode": {
    "name": "ipython",
    "version": 3
   },
   "file_extension": ".py",
   "mimetype": "text/x-python",
   "name": "python",
   "nbconvert_exporter": "python",
   "pygments_lexer": "ipython3",
   "version": "3.6.9"
  }
 },
 "nbformat": 4,
 "nbformat_minor": 2
}
